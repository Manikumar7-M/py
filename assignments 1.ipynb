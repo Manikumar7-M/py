{
 "cells": [
  {
   "cell_type": "markdown",
   "metadata": {},
   "source": [
    "Assignment 1"
   ]
  },
  {
   "cell_type": "code",
   "execution_count": 1,
   "metadata": {
    "tags": [
     "Assignment 1"
    ]
   },
   "outputs": [
    {
     "name": "stdout",
     "output_type": "stream",
     "text": [
      "Ranking list:\n",
      "('kamala', 410)\n",
      "('mahadev', 301)\n",
      "('suresh', 288)\n"
     ]
    }
   ],
   "source": [
    "students_names = ['suresh', 'kamala', 'mahadev']\n",
    "marks = [\n",
    "    [[20, 20, 5], [25, 20, 0], [15, 25, 5], [30, 7, 8]],\n",
    "    [[27, 10, 8], [21, 20, 4], [35, 5, 5], [30, 7, 8]],\n",
    "    [[27, 10, 8], [15, 30, 0], [30, 10, 5], [20, 17, 8]]\n",
    "]\n",
    "CORRECT_MARKS = 4\n",
    "WRONG_MARKS = -1\n",
    "def calculate_score(paper_marks):\n",
    "    total_score = 0\n",
    "    for paper in paper_marks:\n",
    "        correct, wrong,not_answered= paper\n",
    "        total_score += (correct * CORRECT_MARKS) + (wrong * WRONG_MARKS)\n",
    "    return total_score\n",
    "student_scores = {}\n",
    "for student_name, student_marks in zip(students_names, marks):\n",
    "    student_scores[student_name] = calculate_score(student_marks)\n",
    "ranking_list = sorted(student_scores.items(), key=lambda x: x[1], reverse=True)\n",
    "print(\"Ranking list:\")\n",
    "for student, score in ranking_list:\n",
    "    print(f\"('{student}', {score})\")\n"
   ]
  },
  {
   "cell_type": "markdown",
   "metadata": {},
   "source": [
    "Assignment 2"
   ]
  },
  {
   "cell_type": "code",
   "execution_count": null,
   "metadata": {
    "tags": [
     "Assignment 2"
    ]
   },
   "outputs": [
    {
     "name": "stdout",
     "output_type": "stream",
     "text": [
      "\n",
      "Menu:\n",
      "1: Take inputs\n",
      "2: Display all records\n",
      "3: Quit\n"
     ]
    },
    {
     "name": "stdin",
     "output_type": "stream",
     "text": [
      "Enter your choice (1/2/3):  1\n"
     ]
    }
   ],
   "source": [
    "import re\n",
    "import csv\n",
    "\n",
    "def validate_input(full_name, mobile, email, dob, username, password):\n",
    "    if len(full_name.split()) < 2:\n",
    "        return False, \"Full name must contain at least first and last name.\"\n",
    "    if not re.match(r'^\\d{10}$', mobile):\n",
    "        return False, \"Mobile number must be exactly 10 digits.\"\n",
    "    if not re.match(r'^[\\w\\.-]+@[\\w\\.-]+\\.\\w+$', email):\n",
    "        return False, \"Invalid email format.\"\n",
    "    if not re.match(r'^\\d{4}-\\d{2}-\\d{2}$', dob):\n",
    "        return False, \"Date of birth must be in YYYY-MM-DD format.\"\n",
    "    if len(username) < 5:\n",
    "        return False, \"Username must be at least 5 characters long.\"\n",
    "    if len(password) < 8:\n",
    "        return False, \"Password must be at least 8 characters long.\"\n",
    "    return True, \"\"\n",
    "\n",
    "def save_record(record):\n",
    "    with open('records.csv', 'a', newline='') as file:\n",
    "        writer = csv.writer(file)\n",
    "        writer.writerow(record)\n",
    "\n",
    "def display_records():\n",
    "    try:\n",
    "        with open('records.csv', 'r') as file:\n",
    "            reader = csv.reader(file)\n",
    "            print(\"\\nStored Records:\")\n",
    "            for row in reader:\n",
    "                print(f\"Full Name: {row[0]}, Mobile: {row[1]}, Email: {row[2]}, DOB: {row[3]}, Username: {row[4]}\")\n",
    "    except FileNotFoundError:\n",
    "        print(\"No records found.\")\n",
    "\n",
    "def main():\n",
    "    while True:\n",
    "        print(\"\\nMenu:\")\n",
    "        print(\"1: Take inputs\")\n",
    "        print(\"2: Display all records\")\n",
    "        print(\"3: Quit\")\n",
    "        choice = input(\"Enter your choice (1/2/3): \")\n",
    "        if choice == '1':\n",
    "            full_name = input(\"Enter full name: \")\n",
    "            mobile = input(\"Enter mobile number: \")\n",
    "            email = input(\"Enter email: \")\n",
    "            dob = input(\"Enter date of birth (YYYY-MM-DD): \")\n",
    "            username = input(\"Enter username: \")\n",
    "            password = input(\"Enter password: \")\n",
    "            valid, message = validate_input(full_name, mobile, email, dob, username, password)\n",
    "            if valid:\n",
    "                save_record([full_name, mobile, email, dob, username])\n",
    "                print(\"Record saved successfully.\")\n",
    "            else:\n",
    "                print(f\"Error: {message}\")\n",
    "\n",
    "        elif choice == '2':\n",
    "            display_records()\n",
    "\n",
    "        elif choice == '3':\n",
    "            print(\"Exiting the program.\")\n",
    "            break\n",
    "        else:\n",
    "            print(\"Invalid choice. Please select 1, 2, or 3.\")\n",
    "if __name__ == \"__main__\":\n",
    "    main()\n"
   ]
  },
  {
   "cell_type": "markdown",
   "metadata": {},
   "source": [
    "Assignment 3"
   ]
  },
  {
   "cell_type": "code",
   "execution_count": null,
   "metadata": {
    "tags": [
     "Assignment 3"
    ]
   },
   "outputs": [],
   "source": [
    "import csv\n",
    "def load_users():\n",
    "    users = {}\n",
    "    try:\n",
    "        with open('records.csv', 'r') as file:\n",
    "            reader = csv.reader(file)\n",
    "            for row in reader:\n",
    "                if len(row) >= 6:  # Ensure there are enough columns\n",
    "                    username, password = row[4], row[5]\n",
    "                    users[username] = password\n",
    "    except FileNotFoundError:\n",
    "        pass\n",
    "    return users\n",
    "def login(users):\n",
    "    username = input(\"Enter username: \")\n",
    "    password = input(\"Enter password: \")\n",
    "    if username not in users:\n",
    "        print(\"You are not registered.\")\n",
    "    elif users[username] != password:\n",
    "        print(\"Your password is wrong.\")\n",
    "    else:\n",
    "        print(\"You have successfully logged in.\")\n",
    "def logout(users):\n",
    "    username = input(\"Enter username to logout: \")\n",
    "    if username not in users:\n",
    "        print(\"You are not registered.\")\n",
    "    else:\n",
    "        print(f\"User '{username}' has been logged out.\")\n",
    "def main():\n",
    "    users = load_users()\n",
    "    while True:\n",
    "        print(\"\\nMenu:\")\n",
    "        print(\"1: Login\")\n",
    "        print(\"2: Logout\")\n",
    "        print(\"3: Quit\")\n",
    "        choice = input(\"Enter your choice (1/2/3): \")\n",
    "        if choice == '1':\n",
    "            login(users)\n",
    "        elif choice == '2':\n",
    "            logout(users)\n",
    "        elif choice == '3':\n",
    "            print(\"Exiting the program.\")\n",
    "            break\n",
    "        else:\n",
    "            print(\"Invalid choice. Please select 1, 2, or 3.\")\n",
    "\n",
    "if __name__ == \"__main__\":\n",
    "    main()\n"
   ]
  },
  {
   "cell_type": "markdown",
   "metadata": {},
   "source": [
    "Assignment 4"
   ]
  },
  {
   "cell_type": "code",
   "execution_count": 9,
   "metadata": {
    "tags": [
     "Assignment 4"
    ]
   },
   "outputs": [],
   "source": [
    "user_login_status = {}\n",
    "\n",
    "def login_decorator(func):\n",
    "    def wrapper(username, password, *args, **kwargs):\n",
    "        if username in user_login_status and user_login_status[username] == 'logged in':\n",
    "            print(f\"User '{username}' is already logged in.\")\n",
    "            return\n",
    "        \n",
    "        if func(username, password, *args, **kwargs):\n",
    "            user_login_status[username] = 'logged in'\n",
    "            print(f\"User '{username}' has successfully logged in.\")\n",
    "    \n",
    "    return wrapper\n",
    "\n",
    "def logout(username):\n",
    "    if username in user_login_status:\n",
    "        del user_login_status[username]\n",
    "        print(f\"User '{username}' has been logged out.\")\n",
    "    else:\n",
    "        print(f\"User '{username}' is not logged in or does not exist.\")\n",
    "\n",
    "def active_users():\n",
    "    if not user_login_status:\n",
    "        print(\"No active users.\")\n",
    "    else:\n",
    "        print(\"Active users:\")\n",
    "        for user in user_login_status:\n",
    "            print(f\"- {user}\")\n",
    "user_credentials = {\n",
    "    'mahesh799': 'Pass123',\n",
    "    'manidhoni7': 'dhoni7',\n",
    "    'krishna143': 'vamsithecoder'\n",
    "}\n",
    "\n",
    "@login_decorator\n",
    "def login(username, password):\n",
    "    if username in user_credentials and user_credentials[username] == password:\n",
    "        return True\n",
    "    print(f\"Invalid credentials for user '{username}'.\")\n",
    "    return False\n",
    "\n",
    "def main():\n",
    "    while True:\n",
    "        action = input(\"Enter 'l' for login, 'a' for active users, 'e' for exit: \").strip().lower()\n",
    "        \n",
    "        if action == 'l':\n",
    "            username = input(\"Enter username: \").strip()\n",
    "            password = input(\"Enter password: \").strip()\n",
    "            login(username, password)\n",
    "        elif action == 'a':\n",
    "            active_users()\n",
    "        elif action == 'e':\n",
    "            break\n",
    "        else:\n",
    "            print(\"Invalid option. Please enter 'l', 'a', or 'e'.\")\n",
    "\n",
    "if __name__ == \"__main__\":\n",
    "    main()\n"
   ]
  }
 ],
 "metadata": {
  "kernelspec": {
   "display_name": "Python 3 (ipykernel)",
   "language": "python",
   "name": "python3"
  },
  "language_info": {
   "codemirror_mode": {
    "name": "ipython",
    "version": 3
   },
   "file_extension": ".py",
   "mimetype": "text/x-python",
   "name": "python",
   "nbconvert_exporter": "python",
   "pygments_lexer": "ipython3",
   "version": "3.12.3"
  }
 },
 "nbformat": 4,
 "nbformat_minor": 4
}
